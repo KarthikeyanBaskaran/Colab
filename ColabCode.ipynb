{
  "nbformat": 4,
  "nbformat_minor": 0,
  "metadata": {
    "colab": {
      "provenance": [],
      "authorship_tag": "ABX9TyNYPTWl8OazIpNO0jp4IGRT",
      "include_colab_link": true
    },
    "kernelspec": {
      "name": "python3",
      "display_name": "Python 3"
    },
    "language_info": {
      "name": "python"
    }
  },
  "cells": [
    {
      "cell_type": "markdown",
      "metadata": {
        "id": "view-in-github",
        "colab_type": "text"
      },
      "source": [
        "<a href=\"https://colab.research.google.com/github/KarthikeyanBaskaran/Colab/blob/main/ColabCode.ipynb\" target=\"_parent\"><img src=\"https://colab.research.google.com/assets/colab-badge.svg\" alt=\"Open In Colab\"/></a>"
      ]
    },
    {
      "cell_type": "code",
      "source": [
        "cd /content"
      ],
      "metadata": {
        "colab": {
          "base_uri": "https://localhost:8080/"
        },
        "id": "FM38GdJkOxsA",
        "outputId": "08b31d0f-bea8-444e-aa2c-0b2377beda86"
      },
      "execution_count": 9,
      "outputs": [
        {
          "output_type": "stream",
          "name": "stdout",
          "text": [
            "/content\n"
          ]
        }
      ]
    },
    {
      "cell_type": "code",
      "source": [
        "from google.colab import drive\n",
        "drive.mount('/content/drive')\n",
        "!git clone https://github.com/KarthikeyanBaskaran/Colab.git"
      ],
      "metadata": {
        "colab": {
          "base_uri": "https://localhost:8080/"
        },
        "id": "ONOgZhgj3ndP",
        "outputId": "b17a7de5-1ffc-44de-b35a-ea296d02916c"
      },
      "execution_count": 10,
      "outputs": [
        {
          "output_type": "stream",
          "name": "stdout",
          "text": [
            "Drive already mounted at /content/drive; to attempt to forcibly remount, call drive.mount(\"/content/drive\", force_remount=True).\n",
            "fatal: destination path 'Colab' already exists and is not an empty directory.\n"
          ]
        }
      ]
    },
    {
      "cell_type": "code",
      "source": [
        "cd Colab/"
      ],
      "metadata": {
        "colab": {
          "base_uri": "https://localhost:8080/"
        },
        "id": "Qu0heE6KFVAU",
        "outputId": "8660d476-29ee-476a-cad9-1e04768d4b52"
      },
      "execution_count": 11,
      "outputs": [
        {
          "output_type": "stream",
          "name": "stdout",
          "text": [
            "/content/Colab\n"
          ]
        }
      ]
    },
    {
      "cell_type": "code",
      "source": [
        "!pip install -r requirements.txt -q"
      ],
      "metadata": {
        "id": "8N2XbsBLFGJc"
      },
      "execution_count": 12,
      "outputs": []
    },
    {
      "cell_type": "code",
      "source": [
        "from google.colab import userdata\n",
        "import os\n",
        "os.environ['GROQ_API_KEY'] = userdata.get('GROQ_API_KEY')"
      ],
      "metadata": {
        "id": "UEnjsnh-Unvj"
      },
      "execution_count": 13,
      "outputs": []
    },
    {
      "cell_type": "code",
      "source": [
        "!python main.py"
      ],
      "metadata": {
        "colab": {
          "base_uri": "https://localhost:8080/"
        },
        "id": "5w3voMDw2wWl",
        "outputId": "6709fffb-4de1-4cf9-d58e-1e04cdddd226"
      },
      "execution_count": 14,
      "outputs": [
        {
          "output_type": "stream",
          "name": "stdout",
          "text": [
            "2025-09-07 05:07:03,204 - INFO - NumExpr defaulting to 2 threads.\n",
            "2025-09-07 05:07:15.345342: E external/local_xla/xla/stream_executor/cuda/cuda_fft.cc:467] Unable to register cuFFT factory: Attempting to register factory for plugin cuFFT when one has already been registered\n",
            "WARNING: All log messages before absl::InitializeLog() is called are written to STDERR\n",
            "E0000 00:00:1757221635.416245   11196 cuda_dnn.cc:8579] Unable to register cuDNN factory: Attempting to register factory for plugin cuDNN when one has already been registered\n",
            "E0000 00:00:1757221635.445058   11196 cuda_blas.cc:1407] Unable to register cuBLAS factory: Attempting to register factory for plugin cuBLAS when one has already been registered\n",
            "W0000 00:00:1757221635.478969   11196 computation_placer.cc:177] computation placer already registered. Please check linkage and avoid linking the same target more than once.\n",
            "W0000 00:00:1757221635.479123   11196 computation_placer.cc:177] computation placer already registered. Please check linkage and avoid linking the same target more than once.\n",
            "W0000 00:00:1757221635.479133   11196 computation_placer.cc:177] computation placer already registered. Please check linkage and avoid linking the same target more than once.\n",
            "W0000 00:00:1757221635.479161   11196 computation_placer.cc:177] computation placer already registered. Please check linkage and avoid linking the same target more than once.\n",
            "2025-09-07 05:07:15.488815: I tensorflow/core/platform/cpu_feature_guard.cc:210] This TensorFlow binary is optimized to use available CPU instructions in performance-critical operations.\n",
            "To enable the following instructions: AVX2 FMA, in other operations, rebuild TensorFlow with the appropriate compiler flags.\n",
            "2025-09-07 05:07:23,329 - INFO - TensorFlow version 2.19.0 available.\n",
            "2025-09-07 05:07:23,331 - INFO - JAX version 0.5.3 available.\n",
            "2025-09-07 05:07:26,998 - INFO - Use pytorch device_name: cpu\n",
            "2025-09-07 05:07:26,998 - INFO - Load pretrained SentenceTransformer: all-MiniLM-L6-v2\n",
            "modules.json: 100% 349/349 [00:00<00:00, 2.02MB/s]\n",
            "config_sentence_transformers.json: 100% 116/116 [00:00<00:00, 685kB/s]\n",
            "README.md: 10.5kB [00:00, 26.9MB/s]\n",
            "sentence_bert_config.json: 100% 53.0/53.0 [00:00<00:00, 352kB/s]\n",
            "config.json: 100% 612/612 [00:00<00:00, 4.10MB/s]\n",
            "model.safetensors: 100% 90.9M/90.9M [00:01<00:00, 54.7MB/s]\n",
            "tokenizer_config.json: 100% 350/350 [00:00<00:00, 2.47MB/s]\n",
            "vocab.txt: 232kB [00:00, 4.44MB/s]\n",
            "tokenizer.json: 466kB [00:00, 13.1MB/s]\n",
            "special_tokens_map.json: 100% 112/112 [00:00<00:00, 782kB/s]\n",
            "config.json: 100% 190/190 [00:00<00:00, 1.01MB/s]\n",
            "2025-09-07 05:07:35,207 - INFO - Loading configuration from 'config.yaml'...\n",
            "2025-09-07 05:07:35,208 - INFO - Loading raw resume text from 'Resume.yaml'...\n",
            "Paste the Job Description below. End with an empty line (just press Enter).\n",
            "About the job About Us  SECURE is a leading Waste Management and Energy Infrastructure business headquartered in Calgary, Alberta. Our extensive infrastructure network located throughout western Canada and North Dakota includes Waste Management Facilities, Industrial Landfills, Pipeline Operations, Metals & Mining, and Specialty Chemicals, Energy Infrastructure include Blending & Facility Supply and Trading & Storage.  Our number one goal every day is to go home safe. Like our values state, working the SECURE way starts with working safely. Safety is the cornerstone of our culture, because if we are not safe, nothing else matters.   Your Opportunity at SECURE   The Logistics/Supply Chain Analyst provides analytical support to the Supply Chain team within SECURE’s Specialty Chemicals division. This position will also require interfacing with accounting, operations, and information technology groups to acquire data and develop better tools to support inventory management, logistics coordination, product procurement and forecasting functions.  To be considered for this position, please make sure your application is submitted by September 26th, 2025.   Work Environment   This is a full-time position located in an office environment in Calgary, Alberta.   A Day in The Life   The responsibilities of this role include, but are not limited to:   Purchase all materials and services as directed to maintain established inventory levels and project requirements   Expedite purchase orders to ensure the timely arrival of materials to meet established schedules, this includes managing supplier relationships and monitoring performance   Analyze internal demand requirements and external market conditions to identify areas of opportunity and improvement   Electronic issuance of Purchase Orders   Coordinate logistics movements both internal and external   Conduct freight market assessments to provide the best value movements for the division   Track shipping progress to ensure on time delivery for rail, truck, and ocean freight   Communicate customs documents as required   Conducting cost/price analyses using statistical tools, market trend data and parametric models   Developing, maintaining, and demonstrating relationship building & supply chain expertise   Identifying internal and external process improvements that can be implemented to resolve issues, improve efficiency, reduce costs, and improve flow of goods to shelf.   Conducting fact-finding on supplier quotes or proposals. Collecting and verifying supplier's cost data   Liaise with Inventory Control, Warehouse, and Technical Services, and suppliers to address questions and concerns regarding stock status, consumptions, and shortages   Run and maintain various reports and programs   Special projects and other duties, as assigned   Skills, Experience & Qualifications  The individual in this role will have:   3-5 years of experience in a Supply Chain/Logistics or Marketing role; experience in customer facing roles is preferable or relevant industry specific relevant experience   Excellent verbal and written communication and interpersonal skills   Excellent analytical and problem-solving skills required   Strong organizational skills, with an ability to manage and coordinate multiple tasks concurrently required   Possess a clear understanding of standard business practices, inventory management, purchasing processes, supply chain management, and terminology   Advanced Microsoft Office skills required: Excel, Access, PowerPoint, Word   Strong attention to detail required   Conceptual ability to work with minimum information   Experience in Accounting or Finance is considered an asset   Category Management and Procurement Practices Experience is desired   Advanced MS-Excel skills required   Supply Chain Management (Logistics/Supply Chain Certification) is desirable   Experience with Rail, Trucking and Ocean Freight \n",
            "\n",
            "2025-09-07 05:07:43,838 - INFO - Semantic matching in progress\n",
            "Batches: 100% 1/1 [00:00<00:00,  3.78it/s]\n",
            "Batches: 100% 1/1 [00:00<00:00,  3.15it/s]\n",
            "Batches: 100% 1/1 [00:00<00:00,  6.98it/s]\n",
            "Batches: 100% 1/1 [00:00<00:00,  5.85it/s]\n",
            "Batches: 100% 1/1 [00:00<00:00, 20.81it/s]\n",
            "2025-09-07 05:07:44,806 - INFO - Contacting Groq API to generate tailored resume experience content...\n",
            "2025-09-07 05:07:45,535 - INFO - HTTP Request: POST https://api.groq.com/openai/v1/chat/completions \"HTTP/1.1 200 OK\"\n",
            "2025-09-07 05:07:46,797 - INFO - Successfully received initial experience content from Groq.\n",
            "2025-09-07 05:07:46,806 - INFO - Initial YAML from LLM is valid.\n",
            "2025-09-07 05:07:46,806 - INFO - 2. Contacting Groq API to generate tailored project content...\n",
            "2025-09-07 05:07:47,242 - INFO - HTTP Request: POST https://api.groq.com/openai/v1/chat/completions \"HTTP/1.1 200 OK\"\n",
            "2025-09-07 05:07:47,769 - INFO - Initial YAML from LLM is valid.\n",
            "Batches: 100% 1/1 [00:00<00:00,  7.83it/s]\n",
            "Batches: 100% 1/1 [00:00<00:00, 44.28it/s]\n",
            "2025-09-07 05:07:47,927 - INFO - Saving final tailored YAML to 'output.yaml'...\n",
            "✅ Resume generated: Karthikeyan_Baskaran_Resume.pdf\n",
            "2025-09-07 05:07:47,986 - INFO - Extracting company and position names\n",
            "2025-09-07 05:07:48,377 - INFO - HTTP Request: POST https://api.groq.com/openai/v1/chat/completions \"HTTP/1.1 200 OK\"\n",
            "Resume saved as: Logistics_Supply Chain Analyst_Resume.pdf\n",
            "Job description saved as: job_description.txt\n"
          ]
        }
      ]
    },
    {
      "cell_type": "code",
      "source": [
        "!python ReportLabs.py"
      ],
      "metadata": {
        "id": "VPPnoyJpfKf5",
        "outputId": "1f8cf7b5-389e-4609-fc9d-c2fb71f1bfe3",
        "colab": {
          "base_uri": "https://localhost:8080/"
        }
      },
      "execution_count": 16,
      "outputs": [
        {
          "output_type": "stream",
          "name": "stdout",
          "text": [
            "✅ Resume generated: formatted_resume.pdf\n"
          ]
        }
      ]
    },
    {
      "cell_type": "code",
      "source": [
        "pip install PyPDF2"
      ],
      "metadata": {
        "id": "P29hNpgJpS3E",
        "outputId": "c7dcd9af-4e51-4d4a-c44c-7ba58bed9b38",
        "colab": {
          "base_uri": "https://localhost:8080/"
        }
      },
      "execution_count": 18,
      "outputs": [
        {
          "output_type": "stream",
          "name": "stdout",
          "text": [
            "Collecting PyPDF2\n",
            "  Downloading pypdf2-3.0.1-py3-none-any.whl.metadata (6.8 kB)\n",
            "Downloading pypdf2-3.0.1-py3-none-any.whl (232 kB)\n",
            "\u001b[2K   \u001b[90m━━━━━━━━━━━━━━━━━━━━━━━━━━━━━━━━━━━━━━━━\u001b[0m \u001b[32m232.6/232.6 kB\u001b[0m \u001b[31m2.7 MB/s\u001b[0m eta \u001b[36m0:00:00\u001b[0m\n",
            "\u001b[?25hInstalling collected packages: PyPDF2\n",
            "Successfully installed PyPDF2-3.0.1\n"
          ]
        }
      ]
    },
    {
      "cell_type": "code",
      "source": [
        "from PyPDF2 import PdfReader, PdfWriter\n",
        "\n",
        "# Load the PDF\n",
        "reader = PdfReader(\"/content/Colab/formatted_resume.pdf\")\n",
        "writer = PdfWriter()\n",
        "\n",
        "# Add only the first page\n",
        "writer.add_page(reader.pages[0])\n",
        "\n",
        "# Save as new PDF\n",
        "with open(\"Karthikeyan Resume.pdf\", \"wb\") as f:\n",
        "    writer.write(f)\n"
      ],
      "metadata": {
        "id": "etqrajn1pKSN"
      },
      "execution_count": 19,
      "outputs": []
    }
  ]
}