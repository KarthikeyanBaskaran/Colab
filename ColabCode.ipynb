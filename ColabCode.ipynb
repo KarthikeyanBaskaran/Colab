{
  "cells": [
    {
      "cell_type": "markdown",
      "metadata": {
        "colab_type": "text",
        "id": "view-in-github"
      },
      "source": [
        "<a href=\"https://colab.research.google.com/github/KarthikeyanBaskaran/Colab/blob/main/ColabCode.ipynb\" target=\"_parent\"><img src=\"https://colab.research.google.com/assets/colab-badge.svg\" alt=\"Open In Colab\"/></a>"
      ]
    },
    {
      "cell_type": "code",
      "execution_count": 1,
      "metadata": {
        "colab": {
          "base_uri": "https://localhost:8080/"
        },
        "id": "FM38GdJkOxsA",
        "outputId": "f4e31497-d7a2-4ca2-873a-f473e34cde79"
      },
      "outputs": [
        {
          "name": "stdout",
          "output_type": "stream",
          "text": [
            "/content\n"
          ]
        }
      ],
      "source": [
        "cd /content"
      ]
    },
    {
      "cell_type": "code",
      "execution_count": 2,
      "metadata": {
        "colab": {
          "base_uri": "https://localhost:8080/"
        },
        "id": "ONOgZhgj3ndP",
        "outputId": "0393c968-a5a4-46a5-a647-132021609c40"
      },
      "outputs": [
        {
          "name": "stdout",
          "output_type": "stream",
          "text": [
            "Drive already mounted at /content/drive; to attempt to forcibly remount, call drive.mount(\"/content/drive\", force_remount=True).\n",
            "fatal: destination path 'Colab' already exists and is not an empty directory.\n"
          ]
        }
      ],
      "source": [
        "from google.colab import drive\n",
        "drive.mount('/content/drive')\n",
        "!git clone https://github.com/KarthikeyanBaskaran/Colab.git"
      ]
    },
    {
      "cell_type": "code",
      "execution_count": 3,
      "metadata": {
        "colab": {
          "base_uri": "https://localhost:8080/"
        },
        "id": "Qu0heE6KFVAU",
        "outputId": "4053d0b2-e07e-4d6f-ad0f-1e7e0b63f144"
      },
      "outputs": [
        {
          "name": "stdout",
          "output_type": "stream",
          "text": [
            "/content/Colab\n"
          ]
        }
      ],
      "source": [
        "cd Colab/"
      ]
    },
    {
      "cell_type": "code",
      "execution_count": 3,
      "metadata": {
        "id": "8N2XbsBLFGJc"
      },
      "outputs": [],
      "source": [
        "!pip install -r requirements.txt -q"
      ]
    },
    {
      "cell_type": "code",
      "execution_count": 5,
      "metadata": {
        "id": "UEnjsnh-Unvj"
      },
      "outputs": [],
      "source": [
        "from google.colab import userdata\n",
        "import os\n",
        "os.environ['GROQ_API_KEY'] = userdata.get('GROQ_API_KEY')"
      ]
    },
    {
      "cell_type": "code",
      "execution_count": 6,
      "metadata": {
        "colab": {
          "base_uri": "https://localhost:8080/"
        },
        "id": "5w3voMDw2wWl",
        "outputId": "b7c3069e-e23d-41bc-916b-509ee20cacb0"
      },
      "outputs": [
        {
          "name": "stdout",
          "output_type": "stream",
          "text": [
            "2025-09-25 05:34:52,175 - INFO - NumExpr defaulting to 2 threads.\n",
            "2025-09-25 05:34:55.899571: E external/local_xla/xla/stream_executor/cuda/cuda_fft.cc:467] Unable to register cuFFT factory: Attempting to register factory for plugin cuFFT when one has already been registered\n",
            "WARNING: All log messages before absl::InitializeLog() is called are written to STDERR\n",
            "E0000 00:00:1758778495.940890    9677 cuda_dnn.cc:8579] Unable to register cuDNN factory: Attempting to register factory for plugin cuDNN when one has already been registered\n",
            "E0000 00:00:1758778495.953028    9677 cuda_blas.cc:1407] Unable to register cuBLAS factory: Attempting to register factory for plugin cuBLAS when one has already been registered\n",
            "W0000 00:00:1758778495.984732    9677 computation_placer.cc:177] computation placer already registered. Please check linkage and avoid linking the same target more than once.\n",
            "W0000 00:00:1758778495.984802    9677 computation_placer.cc:177] computation placer already registered. Please check linkage and avoid linking the same target more than once.\n",
            "W0000 00:00:1758778495.984806    9677 computation_placer.cc:177] computation placer already registered. Please check linkage and avoid linking the same target more than once.\n",
            "W0000 00:00:1758778495.984812    9677 computation_placer.cc:177] computation placer already registered. Please check linkage and avoid linking the same target more than once.\n",
            "2025-09-25 05:34:55.994617: I tensorflow/core/platform/cpu_feature_guard.cc:210] This TensorFlow binary is optimized to use available CPU instructions in performance-critical operations.\n",
            "To enable the following instructions: AVX2 FMA, in other operations, rebuild TensorFlow with the appropriate compiler flags.\n",
            "2025-09-25 05:35:01,876 - INFO - TensorFlow version 2.19.0 available.\n",
            "2025-09-25 05:35:01,877 - INFO - JAX version 0.5.3 available.\n",
            "2025-09-25 05:35:03,176 - INFO - Use pytorch device_name: cpu\n",
            "2025-09-25 05:35:03,176 - INFO - Load pretrained SentenceTransformer: all-MiniLM-L6-v2\n",
            "2025-09-25 05:35:04,212 - INFO - Loading configuration from 'config.yaml'...\n",
            "2025-09-25 05:35:04,214 - INFO - Loading raw resume text from 'Resume.yaml'...\n",
            "Paste the Job Description below. End with an empty line (just press Enter).\n",
            "About the job who we are  lululemon is an innovative performance apparel company for yoga, running, training, and other athletic pursuits. Setting the bar in technical fabrics and functional design, we create transformational products and experiences that support people in moving, growing, connecting, and being well. We owe our success to our innovative product, emphasis on stores, commitment to our people, and the incredible connections we make in every community we're in. As a company, we focus on creating positive change to build a healthier, thriving future. In particular, that includes creating an equitable, inclusive and growth-focused environment for our people.   About This Team  The Global Procurement team are trusted business advisors who strategically partner with internal stakeholders and external suppliers to create value and mitigate risk in strategic non-product purchases for the global organization. The team supports the business in increasing its profitability and return on investment by creating value in our indirect supply chain through sourcing and negotiation. From providing category expertise, market insights, cost savings opportunities & developing short and long-term strategies, the Global Procurement team supports the business with their supplier relationships. Rooted deeply within Global Procurement is a function called Procurement Strategy & Analytics. This team enables value delivery via Category Management through – spend management, value analytics, market intelligence, digital procurement, Procurement strategy & governance, Supplier Inclusion & Inclusion, and sustainability. This team not only ensures the right foundation of data and process within Procurement, but they also drive alignment to important mandates and values of lululemon – Be Human, Be Well, and Be Planet.   About This Role  The senior procurement strategy analyst’s role supports the development & improvement of departmental processes, tools & templates, systems and governance. As part of the Strategy & Analytics tower, the senior strategy analyst has a strong Procurement Analytics background and the ability to apply value analysis to enable value delivery across Procurement – whether through process or category management. The senior analyst has experience with supplier risk, supplier relationship management, supplier inclusion and sustainability to support these programs.   Core Responsibilities  Maintain & improve procurement processes, tools, and templates while supporting change management efforts across the team and various departments. Build partnerships with internal procurement team members, business partners in finance, legal and our business along with our external sourcing service provider. Collaborate with stakeholder teams like Legal, FP&A, Cyber, Technology Vendor Management Office & Enterprise Planning on procurement impacted initiatives, processes & projects. Engage in the Third-Party Risk Management Program through actions, initiatives, and collaboration. Initiate, supervise, and retrieve risk assessment reports from third-party suppliers to assist the Procurement Category teams. Build & implement the Supplier Relationship Management program through team engagement, resource development & business & supplier review support. Support supplier inclusion and sustainable procurement initiatives, programs & projects. Support the development of annual procurement category planning that delivers against global strategic priorities; translate global strategy into effective and innovative sourcing strategies. Link market intelligence and value analytics to procurement strategy, sourcing strategy and category planning. Compile future learning opportunities for the monthly Procurement Development Curriculum. Manage the Coupa platform’s sourcing module, which could include addressing inquiries, reviewing new release notes and update training materials as necessary. Manage large, high-complexity projects or multiple concurrent projects within the Procurement Strategy & Analytics portfolio. Support the Strategy\n",
            "\n",
            "2025-09-25 05:35:14,745 - INFO - Semantic matching in progress\n",
            "Batches: 100% 1/1 [00:00<00:00,  3.48it/s]\n",
            "Batches: 100% 1/1 [00:00<00:00,  1.54it/s]\n",
            "Batches: 100% 1/1 [00:00<00:00,  2.95it/s]\n",
            "Batches: 100% 1/1 [00:00<00:00,  5.02it/s]\n",
            "Batches: 100% 1/1 [00:00<00:00, 21.65it/s]\n",
            "2025-09-25 05:35:16,287 - INFO - Contacting Groq API to generate tailored resume experience content...\n",
            "2025-09-25 05:35:16,875 - INFO - HTTP Request: POST https://api.groq.com/openai/v1/chat/completions \"HTTP/1.1 200 OK\"\n",
            "2025-09-25 05:35:18,020 - INFO - Successfully received initial experience content from Groq.\n",
            "2025-09-25 05:35:18,025 - INFO - Initial YAML from LLM is valid.\n",
            "2025-09-25 05:35:18,025 - INFO - 2. Contacting Groq API to generate tailored project content...\n",
            "2025-09-25 05:35:18,392 - INFO - HTTP Request: POST https://api.groq.com/openai/v1/chat/completions \"HTTP/1.1 200 OK\"\n",
            "2025-09-25 05:35:18,874 - INFO - Initial YAML from LLM is valid.\n",
            "Batches: 100% 1/1 [00:00<00:00,  7.62it/s]\n",
            "Batches: 100% 1/1 [00:00<00:00, 38.44it/s]\n",
            "2025-09-25 05:35:19,037 - INFO - Saving final tailored YAML to 'output.yaml'...\n",
            "✅ Resume generated: Karthikeyan_Baskaran_Resume.pdf\n",
            "2025-09-25 05:35:19,083 - INFO - Extracting company and position names\n",
            "2025-09-25 05:35:19,462 - INFO - HTTP Request: POST https://api.groq.com/openai/v1/chat/completions \"HTTP/1.1 200 OK\"\n",
            "Resume saved as: Senior Procurement Strategy Analyst_Resume.pdf\n",
            "Job description saved as: job_description.txt\n"
          ]
        }
      ],
      "source": [
        "!python main.py"
      ]
    },
    {
      "cell_type": "code",
      "execution_count": 9,
      "metadata": {
        "colab": {
          "base_uri": "https://localhost:8080/"
        },
        "id": "VPPnoyJpfKf5",
        "outputId": "21f82cde-d2ff-428e-eba3-f39bcbd607c4"
      },
      "outputs": [
        {
          "name": "stdout",
          "output_type": "stream",
          "text": [
            "✅ Resume generated: Karthikeyan_Baskaran_Resume.pdf\n"
          ]
        }
      ],
      "source": [
        "!python ReportLabs.py"
      ]
    },
    {
      "cell_type": "code",
      "execution_count": 9,
      "metadata": {
        "id": "etqrajn1pKSN"
      },
      "outputs": [],
      "source": [
        "# from PyPDF2 import PdfReader, PdfWriter\n",
        "\n",
        "# # Load the PDF\n",
        "# reader = PdfReader(\"/content/Colab/formatted_resume.pdf\")\n",
        "# writer = PdfWriter()\n",
        "\n",
        "# # Add only the first page\n",
        "# writer.add_page(reader.pages[0])\n",
        "\n",
        "# # Save as new PDF\n",
        "# with open(\"Karthikeyan Resume.pdf\", \"wb\") as f:\n",
        "#     writer.write(f)\n"
      ]
    }
  ],
  "metadata": {
    "colab": {
      "authorship_tag": "ABX9TyOkmXGP9NcI3wjmrlG7fhmW",
      "include_colab_link": true,
      "provenance": []
    },
    "kernelspec": {
      "display_name": ".venv (3.12.3)",
      "language": "python",
      "name": "python3"
    },
    "language_info": {
      "codemirror_mode": {
        "name": "ipython",
        "version": 3
      },
      "file_extension": ".py",
      "mimetype": "text/x-python",
      "name": "python",
      "nbconvert_exporter": "python",
      "pygments_lexer": "ipython3",
      "version": "3.12.3"
    }
  },
  "nbformat": 4,
  "nbformat_minor": 0
}
